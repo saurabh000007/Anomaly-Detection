{
  "nbformat": 4,
  "nbformat_minor": 0,
  "metadata": {
    "colab": {
      "name": "AnomalyDetection.ipynb",
      "provenance": [],
      "mount_file_id": "1cto-eQB7mflL03FrCkIILPRycdmfDT1G",
      "authorship_tag": "ABX9TyM2ovxIKsKwKOOC7i8moVbd",
      "include_colab_link": true
    },
    "kernelspec": {
      "name": "python3",
      "display_name": "Python 3"
    },
    "language_info": {
      "name": "python"
    }
  },
  "cells": [
    {
      "cell_type": "markdown",
      "metadata": {
        "id": "view-in-github",
        "colab_type": "text"
      },
      "source": [
        "<a href=\"https://colab.research.google.com/github/saurabh000007/Anomaly-Detection/blob/main/AnomalyDetection.ipynb\" target=\"_parent\"><img src=\"https://colab.research.google.com/assets/colab-badge.svg\" alt=\"Open In Colab\"/></a>"
      ]
    },
    {
      "cell_type": "code",
      "metadata": {
        "colab": {
          "base_uri": "https://localhost:8080/"
        },
        "id": "AEUTxOF6IPPC",
        "outputId": "384cbe49-9a0a-4bb0-9ebd-604d584d58ef"
      },
      "source": [
        "#installing hdf5storage\n",
        "!pip install hdf5storage"
      ],
      "execution_count": 1,
      "outputs": [
        {
          "output_type": "stream",
          "name": "stdout",
          "text": [
            "Collecting hdf5storage\n",
            "  Downloading hdf5storage-0.1.18-py2.py3-none-any.whl (53 kB)\n",
            "\u001b[?25l\r\u001b[K     |██████▏                         | 10 kB 16.3 MB/s eta 0:00:01\r\u001b[K     |████████████▍                   | 20 kB 20.6 MB/s eta 0:00:01\r\u001b[K     |██████████████████▌             | 30 kB 24.8 MB/s eta 0:00:01\r\u001b[K     |████████████████████████▊       | 40 kB 16.6 MB/s eta 0:00:01\r\u001b[K     |██████████████████████████████▉ | 51 kB 6.2 MB/s eta 0:00:01\r\u001b[K     |████████████████████████████████| 53 kB 1.1 MB/s \n",
            "\u001b[?25hRequirement already satisfied: h5py>=2.1 in /usr/local/lib/python3.7/dist-packages (from hdf5storage) (3.1.0)\n",
            "Requirement already satisfied: numpy in /usr/local/lib/python3.7/dist-packages (from hdf5storage) (1.19.5)\n",
            "Requirement already satisfied: cached-property in /usr/local/lib/python3.7/dist-packages (from h5py>=2.1->hdf5storage) (1.5.2)\n",
            "Installing collected packages: hdf5storage\n",
            "Successfully installed hdf5storage-0.1.18\n"
          ]
        }
      ]
    },
    {
      "cell_type": "code",
      "metadata": {
        "id": "S-hDufJWJmCv"
      },
      "source": [
        "# importing libraries\n",
        "import hdf5storage\n",
        "import numpy as np\n",
        "from sklearn.ensemble import IsolationForest\n",
        "import matplotlib.pyplot as plt\n",
        "import pandas as pd\n",
        "from sklearn.model_selection import train_test_split\n",
        "from sklearn.metrics import confusion_matrix,f1_score,roc_auc_score,classification_report,roc_curve,auc"
      ],
      "execution_count": 2,
      "outputs": []
    },
    {
      "cell_type": "code",
      "metadata": {
        "id": "KCFUyiueJziA"
      },
      "source": [
        "# getting dataset anomaly.mat\n",
        "file='drive/MyDrive/Anomaly Detection/http.mat'\n",
        "mat=hdf5storage.loadmat(file)"
      ],
      "execution_count": 4,
      "outputs": []
    },
    {
      "cell_type": "code",
      "metadata": {
        "id": "BmYBX20tKGEY"
      },
      "source": [
        "# separating input and output data in pandas dataframe\n",
        "X=pd.DataFrame(mat['X'])\n",
        "y=pd.DataFrame(mat['y'])"
      ],
      "execution_count": 5,
      "outputs": []
    },
    {
      "cell_type": "code",
      "metadata": {
        "colab": {
          "base_uri": "https://localhost:8080/",
          "height": 206
        },
        "id": "Z3GaEiFUKQRT",
        "outputId": "06bb3791-6c95-48e2-f8d2-a475a69cf524"
      },
      "source": [
        "# analysing the data\n",
        "X[:5]"
      ],
      "execution_count": 6,
      "outputs": [
        {
          "output_type": "execute_result",
          "data": {
            "text/html": [
              "<div>\n",
              "<style scoped>\n",
              "    .dataframe tbody tr th:only-of-type {\n",
              "        vertical-align: middle;\n",
              "    }\n",
              "\n",
              "    .dataframe tbody tr th {\n",
              "        vertical-align: top;\n",
              "    }\n",
              "\n",
              "    .dataframe thead th {\n",
              "        text-align: right;\n",
              "    }\n",
              "</style>\n",
              "<table border=\"1\" class=\"dataframe\">\n",
              "  <thead>\n",
              "    <tr style=\"text-align: right;\">\n",
              "      <th></th>\n",
              "      <th>0</th>\n",
              "      <th>1</th>\n",
              "      <th>2</th>\n",
              "    </tr>\n",
              "  </thead>\n",
              "  <tbody>\n",
              "    <tr>\n",
              "      <th>0</th>\n",
              "      <td>-2.302585</td>\n",
              "      <td>5.371103</td>\n",
              "      <td>10.716107</td>\n",
              "    </tr>\n",
              "    <tr>\n",
              "      <th>1</th>\n",
              "      <td>-2.302585</td>\n",
              "      <td>5.088213</td>\n",
              "      <td>8.418058</td>\n",
              "    </tr>\n",
              "    <tr>\n",
              "      <th>2</th>\n",
              "      <td>-2.302585</td>\n",
              "      <td>5.464255</td>\n",
              "      <td>7.113224</td>\n",
              "    </tr>\n",
              "    <tr>\n",
              "      <th>3</th>\n",
              "      <td>-2.302585</td>\n",
              "      <td>5.451468</td>\n",
              "      <td>7.616825</td>\n",
              "    </tr>\n",
              "    <tr>\n",
              "      <th>4</th>\n",
              "      <td>-2.302585</td>\n",
              "      <td>5.476882</td>\n",
              "      <td>6.186414</td>\n",
              "    </tr>\n",
              "  </tbody>\n",
              "</table>\n",
              "</div>"
            ],
            "text/plain": [
              "          0         1          2\n",
              "0 -2.302585  5.371103  10.716107\n",
              "1 -2.302585  5.088213   8.418058\n",
              "2 -2.302585  5.464255   7.113224\n",
              "3 -2.302585  5.451468   7.616825\n",
              "4 -2.302585  5.476882   6.186414"
            ]
          },
          "metadata": {},
          "execution_count": 6
        }
      ]
    },
    {
      "cell_type": "code",
      "metadata": {
        "colab": {
          "base_uri": "https://localhost:8080/",
          "height": 206
        },
        "id": "Sv9hXLHvKYFh",
        "outputId": "ec6880ec-6cb0-4853-eeb3-10c9e6bdf453"
      },
      "source": [
        "y[:5]"
      ],
      "execution_count": 7,
      "outputs": [
        {
          "output_type": "execute_result",
          "data": {
            "text/html": [
              "<div>\n",
              "<style scoped>\n",
              "    .dataframe tbody tr th:only-of-type {\n",
              "        vertical-align: middle;\n",
              "    }\n",
              "\n",
              "    .dataframe tbody tr th {\n",
              "        vertical-align: top;\n",
              "    }\n",
              "\n",
              "    .dataframe thead th {\n",
              "        text-align: right;\n",
              "    }\n",
              "</style>\n",
              "<table border=\"1\" class=\"dataframe\">\n",
              "  <thead>\n",
              "    <tr style=\"text-align: right;\">\n",
              "      <th></th>\n",
              "      <th>0</th>\n",
              "    </tr>\n",
              "  </thead>\n",
              "  <tbody>\n",
              "    <tr>\n",
              "      <th>0</th>\n",
              "      <td>0.0</td>\n",
              "    </tr>\n",
              "    <tr>\n",
              "      <th>1</th>\n",
              "      <td>0.0</td>\n",
              "    </tr>\n",
              "    <tr>\n",
              "      <th>2</th>\n",
              "      <td>0.0</td>\n",
              "    </tr>\n",
              "    <tr>\n",
              "      <th>3</th>\n",
              "      <td>0.0</td>\n",
              "    </tr>\n",
              "    <tr>\n",
              "      <th>4</th>\n",
              "      <td>0.0</td>\n",
              "    </tr>\n",
              "  </tbody>\n",
              "</table>\n",
              "</div>"
            ],
            "text/plain": [
              "     0\n",
              "0  0.0\n",
              "1  0.0\n",
              "2  0.0\n",
              "3  0.0\n",
              "4  0.0"
            ]
          },
          "metadata": {},
          "execution_count": 7
        }
      ]
    },
    {
      "cell_type": "code",
      "metadata": {
        "colab": {
          "base_uri": "https://localhost:8080/",
          "height": 300
        },
        "id": "xOXBcX9WKq_m",
        "outputId": "f0a03e39-b4f3-4854-efa5-be69bbc8ff4c"
      },
      "source": [
        "X.describe()"
      ],
      "execution_count": 8,
      "outputs": [
        {
          "output_type": "execute_result",
          "data": {
            "text/html": [
              "<div>\n",
              "<style scoped>\n",
              "    .dataframe tbody tr th:only-of-type {\n",
              "        vertical-align: middle;\n",
              "    }\n",
              "\n",
              "    .dataframe tbody tr th {\n",
              "        vertical-align: top;\n",
              "    }\n",
              "\n",
              "    .dataframe thead th {\n",
              "        text-align: right;\n",
              "    }\n",
              "</style>\n",
              "<table border=\"1\" class=\"dataframe\">\n",
              "  <thead>\n",
              "    <tr style=\"text-align: right;\">\n",
              "      <th></th>\n",
              "      <th>0</th>\n",
              "      <th>1</th>\n",
              "      <th>2</th>\n",
              "    </tr>\n",
              "  </thead>\n",
              "  <tbody>\n",
              "    <tr>\n",
              "      <th>count</th>\n",
              "      <td>567498.000000</td>\n",
              "      <td>567498.000000</td>\n",
              "      <td>567498.000000</td>\n",
              "    </tr>\n",
              "    <tr>\n",
              "      <th>mean</th>\n",
              "      <td>-2.268538</td>\n",
              "      <td>5.557679</td>\n",
              "      <td>7.489226</td>\n",
              "    </tr>\n",
              "    <tr>\n",
              "      <th>std</th>\n",
              "      <td>0.465346</td>\n",
              "      <td>0.435007</td>\n",
              "      <td>1.316983</td>\n",
              "    </tr>\n",
              "    <tr>\n",
              "      <th>min</th>\n",
              "      <td>-2.302585</td>\n",
              "      <td>-2.302585</td>\n",
              "      <td>-2.302585</td>\n",
              "    </tr>\n",
              "    <tr>\n",
              "      <th>25%</th>\n",
              "      <td>-2.302585</td>\n",
              "      <td>5.380358</td>\n",
              "      <td>6.490875</td>\n",
              "    </tr>\n",
              "    <tr>\n",
              "      <th>50%</th>\n",
              "      <td>-2.302585</td>\n",
              "      <td>5.517854</td>\n",
              "      <td>7.415235</td>\n",
              "    </tr>\n",
              "    <tr>\n",
              "      <th>75%</th>\n",
              "      <td>-2.302585</td>\n",
              "      <td>5.723912</td>\n",
              "      <td>8.372884</td>\n",
              "    </tr>\n",
              "    <tr>\n",
              "      <th>max</th>\n",
              "      <td>8.098369</td>\n",
              "      <td>10.906691</td>\n",
              "      <td>16.277711</td>\n",
              "    </tr>\n",
              "  </tbody>\n",
              "</table>\n",
              "</div>"
            ],
            "text/plain": [
              "                   0              1              2\n",
              "count  567498.000000  567498.000000  567498.000000\n",
              "mean       -2.268538       5.557679       7.489226\n",
              "std         0.465346       0.435007       1.316983\n",
              "min        -2.302585      -2.302585      -2.302585\n",
              "25%        -2.302585       5.380358       6.490875\n",
              "50%        -2.302585       5.517854       7.415235\n",
              "75%        -2.302585       5.723912       8.372884\n",
              "max         8.098369      10.906691      16.277711"
            ]
          },
          "metadata": {},
          "execution_count": 8
        }
      ]
    },
    {
      "cell_type": "code",
      "metadata": {
        "colab": {
          "base_uri": "https://localhost:8080/",
          "height": 300
        },
        "id": "GnvqvjezK1KB",
        "outputId": "3a3476a4-1481-4a63-d672-834a4d06ba1f"
      },
      "source": [
        "y.describe()"
      ],
      "execution_count": 9,
      "outputs": [
        {
          "output_type": "execute_result",
          "data": {
            "text/html": [
              "<div>\n",
              "<style scoped>\n",
              "    .dataframe tbody tr th:only-of-type {\n",
              "        vertical-align: middle;\n",
              "    }\n",
              "\n",
              "    .dataframe tbody tr th {\n",
              "        vertical-align: top;\n",
              "    }\n",
              "\n",
              "    .dataframe thead th {\n",
              "        text-align: right;\n",
              "    }\n",
              "</style>\n",
              "<table border=\"1\" class=\"dataframe\">\n",
              "  <thead>\n",
              "    <tr style=\"text-align: right;\">\n",
              "      <th></th>\n",
              "      <th>0</th>\n",
              "    </tr>\n",
              "  </thead>\n",
              "  <tbody>\n",
              "    <tr>\n",
              "      <th>count</th>\n",
              "      <td>567498.000000</td>\n",
              "    </tr>\n",
              "    <tr>\n",
              "      <th>mean</th>\n",
              "      <td>0.003896</td>\n",
              "    </tr>\n",
              "    <tr>\n",
              "      <th>std</th>\n",
              "      <td>0.062297</td>\n",
              "    </tr>\n",
              "    <tr>\n",
              "      <th>min</th>\n",
              "      <td>0.000000</td>\n",
              "    </tr>\n",
              "    <tr>\n",
              "      <th>25%</th>\n",
              "      <td>0.000000</td>\n",
              "    </tr>\n",
              "    <tr>\n",
              "      <th>50%</th>\n",
              "      <td>0.000000</td>\n",
              "    </tr>\n",
              "    <tr>\n",
              "      <th>75%</th>\n",
              "      <td>0.000000</td>\n",
              "    </tr>\n",
              "    <tr>\n",
              "      <th>max</th>\n",
              "      <td>1.000000</td>\n",
              "    </tr>\n",
              "  </tbody>\n",
              "</table>\n",
              "</div>"
            ],
            "text/plain": [
              "                   0\n",
              "count  567498.000000\n",
              "mean        0.003896\n",
              "std         0.062297\n",
              "min         0.000000\n",
              "25%         0.000000\n",
              "50%         0.000000\n",
              "75%         0.000000\n",
              "max         1.000000"
            ]
          },
          "metadata": {},
          "execution_count": 9
        }
      ]
    },
    {
      "cell_type": "code",
      "metadata": {
        "id": "dZ4XNl8wLC3I"
      },
      "source": [
        "# splitting dataset into test and train data..with test size 0.25\n",
        "X_train,X_test,y_train,y_test=train_test_split(X,y,test_size=0.25)"
      ],
      "execution_count": 10,
      "outputs": []
    },
    {
      "cell_type": "code",
      "metadata": {
        "colab": {
          "base_uri": "https://localhost:8080/"
        },
        "id": "XWYkJuTrLIAU",
        "outputId": "aeb23f03-722a-4457-95f5-2c95f7554f4b"
      },
      "source": [
        "# training data with IForest Algorithm with contamination of 0.004(as mentioned in pdf),sub-sampling size=256 and number of estimators=100\n",
        "ifor=IsolationForest(n_estimators=100,max_samples=256,contamination=0.004)\n",
        "ifor.fit(X_train)"
      ],
      "execution_count": 11,
      "outputs": [
        {
          "output_type": "execute_result",
          "data": {
            "text/plain": [
              "IsolationForest(behaviour='deprecated', bootstrap=False, contamination=0.004,\n",
              "                max_features=1.0, max_samples=256, n_estimators=100,\n",
              "                n_jobs=None, random_state=None, verbose=0, warm_start=False)"
            ]
          },
          "metadata": {},
          "execution_count": 11
        }
      ]
    },
    {
      "cell_type": "code",
      "metadata": {
        "id": "tyAmUgA8LN1W"
      },
      "source": [
        "# defining a convert function to convert the output from {-1,1} to {0,1}\n",
        "def convert(y):\n",
        "    for i in range(y.shape[0]):\n",
        "        if y[i]==-1:\n",
        "            y[i]=1\n",
        "        else:\n",
        "            y[i]=0\n",
        "    return y"
      ],
      "execution_count": 12,
      "outputs": []
    },
    {
      "cell_type": "code",
      "metadata": {
        "id": "oRnXN38FLXXG"
      },
      "source": [
        "# predicting model on test data and converting it to desired output range\n",
        "y_pred=ifor.predict(X_test)\n",
        "y_pred=convert(y_pred)"
      ],
      "execution_count": 13,
      "outputs": []
    },
    {
      "cell_type": "code",
      "metadata": {
        "id": "PSgrIKKzLcAj"
      },
      "source": [
        "# anomaly score calculation on test data..0.5 added to put the scores in the range [0,1]\n",
        "s=0.5-ifor.decision_function(X_test)"
      ],
      "execution_count": 14,
      "outputs": []
    },
    {
      "cell_type": "code",
      "metadata": {
        "id": "E6DFrsTvLg0N"
      },
      "source": [
        "# calculating area under the curve for Receiver Operating Characteristics curve\n",
        "z=roc_auc_score(y_test,s )"
      ],
      "execution_count": 15,
      "outputs": []
    },
    {
      "cell_type": "code",
      "metadata": {
        "id": "NFprXJjLLkuB"
      },
      "source": [
        "# calculating FPR(False Positive Rate),TPR(True Positive Rate) and threshold value for Receiver Operating Characteristics curve\n",
        "fpr,tpr,threshold=roc_curve(y_test,s)"
      ],
      "execution_count": 16,
      "outputs": []
    },
    {
      "cell_type": "code",
      "metadata": {
        "colab": {
          "base_uri": "https://localhost:8080/"
        },
        "id": "WWMyhO2_LnZQ",
        "outputId": "30e0eeea-e38e-4985-9c7a-cf044d39dda7"
      },
      "source": [
        "print('False Positive Rate:',fpr)\n",
        "print('True Positive Rate:',tpr)\n",
        "print('Threshold:',threshold)"
      ],
      "execution_count": 17,
      "outputs": [
        {
          "output_type": "stream",
          "name": "stdout",
          "text": [
            "False Positive Rate: [0.00000000e+00 0.00000000e+00 7.07729110e-06 ... 9.99957536e-01\n",
            " 9.99985845e-01 1.00000000e+00]\n",
            "True Positive Rate: [0.        0.0017301 0.0017301 ... 1.        1.        1.       ]\n",
            "Threshold: [1.55371541 0.55371541 0.54900889 ... 0.15689908 0.1565728  0.15638731]\n"
          ]
        }
      ]
    },
    {
      "cell_type": "code",
      "metadata": {
        "colab": {
          "base_uri": "https://localhost:8080/"
        },
        "id": "vcKz2wDYLrCL",
        "outputId": "20191dc0-7f1a-4e22-e9a5-20a4c77b1a20"
      },
      "source": [
        "# statistical analysis\n",
        "print('Report: ')\n",
        "print('classification report: ')\n",
        "print(classification_report(y_test,y_pred))\n",
        "print('AUC_ROC:',z)\n",
        "print('F1-Score: ',f1_score(y_test,y_pred))\n",
        "print('confusion-matrix: ',confusion_matrix(y_test,y_pred))"
      ],
      "execution_count": 18,
      "outputs": [
        {
          "output_type": "stream",
          "name": "stdout",
          "text": [
            "Report: \n",
            "classification report: \n",
            "              precision    recall  f1-score   support\n",
            "\n",
            "         0.0       1.00      1.00      1.00    141297\n",
            "         1.0       0.94      0.96      0.95       578\n",
            "\n",
            "    accuracy                           1.00    141875\n",
            "   macro avg       0.97      0.98      0.97    141875\n",
            "weighted avg       1.00      1.00      1.00    141875\n",
            "\n",
            "AUC_ROC: 0.9998447587626965\n",
            "F1-Score:  0.9496157130657557\n",
            "confusion-matrix:  [[141260     37]\n",
            " [    22    556]]\n"
          ]
        }
      ]
    },
    {
      "cell_type": "code",
      "metadata": {
        "colab": {
          "base_uri": "https://localhost:8080/",
          "height": 295
        },
        "id": "GHYHbNljLwpK",
        "outputId": "a3245a73-f6c0-41eb-d2da-d6ce4d50870a"
      },
      "source": [
        "# visulization\n",
        "plt.title('Receiver Operating Characteristics')\n",
        "plt.plot(fpr,tpr,'b',label='AUC= %0.6f'%z)\n",
        "plt.legend(loc='lower right')\n",
        "plt.plot([0,1],[0,1],'r--')\n",
        "plt.xlim([0,1])\n",
        "plt.ylim([0,1])\n",
        "plt.ylabel('True Positive Rate')\n",
        "plt.xlabel('False Positive Rate')\n",
        "plt.show()"
      ],
      "execution_count": 19,
      "outputs": [
        {
          "output_type": "display_data",
          "data": {
            "image/png": "[encoded data removed]",
            "text/plain": [
              "<Figure size 432x288 with 1 Axes>"
            ]
          },
          "metadata": {
            "needs_background": "light"
          }
        }
      ]
    },
    {
      "cell_type": "code",
      "metadata": {
        "colab": {
          "base_uri": "https://localhost:8080/",
          "height": 283
        },
        "id": "bSp_1avZL3so",
        "outputId": "ca3cbe30-a900-44a4-e2c1-a562bf6575cf"
      },
      "source": [
        "# plot between the computed anomaly scores and it's actual output value(y_test)\n",
        "plt.scatter(s,y_test,color='blue',marker='*')"
      ],
      "execution_count": 20,
      "outputs": [
        {
          "output_type": "execute_result",
          "data": {
            "text/plain": [
              "<matplotlib.collections.PathCollection at 0x7f2cf9a0dfd0>"
            ]
          },
          "metadata": {},
          "execution_count": 20
        },
        {
          "output_type": "display_data",
          "data": {
            "image/png": "[encoded data removed]",
            "text/plain": [
              "<Figure size 432x288 with 1 Axes>"
            ]
          },
          "metadata": {
            "needs_background": "light"
          }
        }
      ]
    },
    {
      "cell_type": "code",
      "metadata": {
        "colab": {
          "base_uri": "https://localhost:8080/",
          "height": 283
        },
        "id": "fapt_9_VL7k_",
        "outputId": "3fa4f0fa-6840-4a74-955a-077f5be7ffc8"
      },
      "source": [
        "# plot between the computed anomaly scores and it's actual output value(y_pred)\n",
        "plt.scatter(s,y_pred,color='blue',marker='*')"
      ],
      "execution_count": 21,
      "outputs": [
        {
          "output_type": "execute_result",
          "data": {
            "text/plain": [
              "<matplotlib.collections.PathCollection at 0x7f2cf99e4290>"
            ]
          },
          "metadata": {},
          "execution_count": 21
        },
        {
          "output_type": "display_data",
          "data": {
            "image/png": "[encoded data removed]",
            "text/plain": [
              "<Figure size 432x288 with 1 Axes>"
            ]
          },
          "metadata": {
            "needs_background": "light"
          }
        }
      ]
    },
    {
      "cell_type": "code",
      "metadata": {
        "id": "zlSZGvE6L_KJ"
      },
      "source": [
        ""
      ],
      "execution_count": null,
      "outputs": []
    }
  ]
}